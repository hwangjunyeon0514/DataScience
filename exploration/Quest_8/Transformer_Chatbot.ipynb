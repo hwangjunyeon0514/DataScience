{
 "cells": [
  {
   "cell_type": "code",
   "execution_count": 1,
   "id": "b454929d",
   "metadata": {},
   "outputs": [],
   "source": [
    "import tensorflow as tf\n",
    "import tensorflow_datasets as tfds\n",
    "import os\n",
    "import re\n",
    "import numpy as np\n",
    "import matplotlib.pyplot as plt\n",
    "import pandas as pd"
   ]
  },
  {
   "cell_type": "markdown",
   "id": "983f9e61",
   "metadata": {},
   "source": [
    "## Step 1 & 2. 데이터 로딩 및 전처리"
   ]
  },
  {
   "cell_type": "code",
   "execution_count": 2,
   "id": "4ea45e40",
   "metadata": {},
   "outputs": [],
   "source": [
    "filename = os.getenv(\"HOME\") + '/aiffel/transformer_chatbot/data/ChatbotData .csv'"
   ]
  },
  {
   "cell_type": "code",
   "execution_count": 3,
   "id": "8724ec64",
   "metadata": {},
   "outputs": [
    {
     "name": "stdout",
     "output_type": "stream",
     "text": [
      "(11823, 3)\n"
     ]
    },
    {
     "data": {
      "text/html": [
       "<div>\n",
       "<style scoped>\n",
       "    .dataframe tbody tr th:only-of-type {\n",
       "        vertical-align: middle;\n",
       "    }\n",
       "\n",
       "    .dataframe tbody tr th {\n",
       "        vertical-align: top;\n",
       "    }\n",
       "\n",
       "    .dataframe thead th {\n",
       "        text-align: right;\n",
       "    }\n",
       "</style>\n",
       "<table border=\"1\" class=\"dataframe\">\n",
       "  <thead>\n",
       "    <tr style=\"text-align: right;\">\n",
       "      <th></th>\n",
       "      <th>Q</th>\n",
       "      <th>A</th>\n",
       "      <th>label</th>\n",
       "    </tr>\n",
       "  </thead>\n",
       "  <tbody>\n",
       "    <tr>\n",
       "      <th>0</th>\n",
       "      <td>12시 땡!</td>\n",
       "      <td>하루가 또 가네요.</td>\n",
       "      <td>0</td>\n",
       "    </tr>\n",
       "    <tr>\n",
       "      <th>1</th>\n",
       "      <td>1지망 학교 떨어졌어</td>\n",
       "      <td>위로해 드립니다.</td>\n",
       "      <td>0</td>\n",
       "    </tr>\n",
       "    <tr>\n",
       "      <th>2</th>\n",
       "      <td>3박4일 놀러가고 싶다</td>\n",
       "      <td>여행은 언제나 좋죠.</td>\n",
       "      <td>0</td>\n",
       "    </tr>\n",
       "    <tr>\n",
       "      <th>3</th>\n",
       "      <td>3박4일 정도 놀러가고 싶다</td>\n",
       "      <td>여행은 언제나 좋죠.</td>\n",
       "      <td>0</td>\n",
       "    </tr>\n",
       "    <tr>\n",
       "      <th>4</th>\n",
       "      <td>PPL 심하네</td>\n",
       "      <td>눈살이 찌푸려지죠.</td>\n",
       "      <td>0</td>\n",
       "    </tr>\n",
       "  </tbody>\n",
       "</table>\n",
       "</div>"
      ],
      "text/plain": [
       "                 Q            A  label\n",
       "0           12시 땡!   하루가 또 가네요.      0\n",
       "1      1지망 학교 떨어졌어    위로해 드립니다.      0\n",
       "2     3박4일 놀러가고 싶다  여행은 언제나 좋죠.      0\n",
       "3  3박4일 정도 놀러가고 싶다  여행은 언제나 좋죠.      0\n",
       "4          PPL 심하네   눈살이 찌푸려지죠.      0"
      ]
     },
     "execution_count": 3,
     "metadata": {},
     "output_type": "execute_result"
    }
   ],
   "source": [
    "df = pd.read_csv(filename)\n",
    "print(df.shape)\n",
    "df.head()"
   ]
  },
  {
   "cell_type": "code",
   "execution_count": 4,
   "id": "16673b31",
   "metadata": {},
   "outputs": [
    {
     "data": {
      "text/html": [
       "<div>\n",
       "<style scoped>\n",
       "    .dataframe tbody tr th:only-of-type {\n",
       "        vertical-align: middle;\n",
       "    }\n",
       "\n",
       "    .dataframe tbody tr th {\n",
       "        vertical-align: top;\n",
       "    }\n",
       "\n",
       "    .dataframe thead th {\n",
       "        text-align: right;\n",
       "    }\n",
       "</style>\n",
       "<table border=\"1\" class=\"dataframe\">\n",
       "  <thead>\n",
       "    <tr style=\"text-align: right;\">\n",
       "      <th></th>\n",
       "      <th>Q</th>\n",
       "      <th>A</th>\n",
       "    </tr>\n",
       "  </thead>\n",
       "  <tbody>\n",
       "    <tr>\n",
       "      <th>0</th>\n",
       "      <td>12시 땡!</td>\n",
       "      <td>하루가 또 가네요.</td>\n",
       "    </tr>\n",
       "    <tr>\n",
       "      <th>1</th>\n",
       "      <td>1지망 학교 떨어졌어</td>\n",
       "      <td>위로해 드립니다.</td>\n",
       "    </tr>\n",
       "    <tr>\n",
       "      <th>2</th>\n",
       "      <td>3박4일 놀러가고 싶다</td>\n",
       "      <td>여행은 언제나 좋죠.</td>\n",
       "    </tr>\n",
       "    <tr>\n",
       "      <th>3</th>\n",
       "      <td>3박4일 정도 놀러가고 싶다</td>\n",
       "      <td>여행은 언제나 좋죠.</td>\n",
       "    </tr>\n",
       "    <tr>\n",
       "      <th>4</th>\n",
       "      <td>PPL 심하네</td>\n",
       "      <td>눈살이 찌푸려지죠.</td>\n",
       "    </tr>\n",
       "  </tbody>\n",
       "</table>\n",
       "</div>"
      ],
      "text/plain": [
       "                 Q            A\n",
       "0           12시 땡!   하루가 또 가네요.\n",
       "1      1지망 학교 떨어졌어    위로해 드립니다.\n",
       "2     3박4일 놀러가고 싶다  여행은 언제나 좋죠.\n",
       "3  3박4일 정도 놀러가고 싶다  여행은 언제나 좋죠.\n",
       "4          PPL 심하네   눈살이 찌푸려지죠."
      ]
     },
     "execution_count": 4,
     "metadata": {},
     "output_type": "execute_result"
    }
   ],
   "source": [
    "df = df.drop(columns='label')\n",
    "df.head()"
   ]
  },
  {
   "cell_type": "markdown",
   "id": "86131b17",
   "metadata": {},
   "source": [
    "11823 개의 데이터가 있음. 필요없는 label column drop"
   ]
  },
  {
   "cell_type": "code",
   "execution_count": 5,
   "id": "3b0fbf51",
   "metadata": {},
   "outputs": [
    {
     "data": {
      "text/plain": [
       "Q    0\n",
       "A    0\n",
       "dtype: int64"
      ]
     },
     "execution_count": 5,
     "metadata": {},
     "output_type": "execute_result"
    }
   ],
   "source": [
    "df.isnull().sum()"
   ]
  },
  {
   "cell_type": "markdown",
   "id": "88913da5",
   "metadata": {},
   "source": [
    "데이터에 빈값 없는 것 확인"
   ]
  },
  {
   "cell_type": "code",
   "execution_count": 6,
   "id": "7b509b4b",
   "metadata": {},
   "outputs": [
    {
     "data": {
      "text/plain": [
       "161"
      ]
     },
     "execution_count": 6,
     "metadata": {},
     "output_type": "execute_result"
    }
   ],
   "source": [
    "df.duplicated(['Q']).sum()"
   ]
  },
  {
   "cell_type": "code",
   "execution_count": 7,
   "id": "08a7ae74",
   "metadata": {},
   "outputs": [
    {
     "data": {
      "text/plain": [
       "4044"
      ]
     },
     "execution_count": 7,
     "metadata": {},
     "output_type": "execute_result"
    }
   ],
   "source": [
    "df.duplicated(['A']).sum()"
   ]
  },
  {
   "cell_type": "code",
   "execution_count": 8,
   "id": "fa50d95e",
   "metadata": {},
   "outputs": [
    {
     "data": {
      "text/plain": [
       "73"
      ]
     },
     "execution_count": 8,
     "metadata": {},
     "output_type": "execute_result"
    }
   ],
   "source": [
    "df.duplicated(['Q', 'A']).sum()"
   ]
  },
  {
   "cell_type": "code",
   "execution_count": 9,
   "id": "1ffbf686",
   "metadata": {},
   "outputs": [
    {
     "data": {
      "text/plain": [
       "73"
      ]
     },
     "execution_count": 9,
     "metadata": {},
     "output_type": "execute_result"
    }
   ],
   "source": [
    "df.duplicated().sum()"
   ]
  },
  {
   "cell_type": "markdown",
   "id": "b89e6837",
   "metadata": {},
   "source": [
    "Q column에 대하여 drop_duplicates 실행"
   ]
  },
  {
   "cell_type": "code",
   "execution_count": 10,
   "id": "ef7d069f",
   "metadata": {},
   "outputs": [
    {
     "name": "stdout",
     "output_type": "stream",
     "text": [
      "0 (11662, 2)\n"
     ]
    }
   ],
   "source": [
    "df = df.drop_duplicates(subset=['Q'])\n",
    "\n",
    "print(df.duplicated(['Q']).sum(), df.shape)"
   ]
  },
  {
   "cell_type": "code",
   "execution_count": 11,
   "id": "79ae627b",
   "metadata": {},
   "outputs": [
    {
     "data": {
      "text/plain": [
       "count    11662.000000\n",
       "mean         3.593466\n",
       "std          1.619695\n",
       "min          1.000000\n",
       "25%          2.000000\n",
       "50%          3.000000\n",
       "75%          4.000000\n",
       "max         15.000000\n",
       "Name: Q, dtype: float64"
      ]
     },
     "execution_count": 11,
     "metadata": {},
     "output_type": "execute_result"
    }
   ],
   "source": [
    "df['Q'].apply(lambda t: len(t.split())).describe()"
   ]
  },
  {
   "cell_type": "code",
   "execution_count": 12,
   "id": "f3a7d4cd",
   "metadata": {},
   "outputs": [
    {
     "data": {
      "text/plain": [
       "count    11662.000000\n",
       "mean         3.698251\n",
       "std          1.858818\n",
       "min          1.000000\n",
       "25%          2.000000\n",
       "50%          3.000000\n",
       "75%          5.000000\n",
       "max         21.000000\n",
       "Name: A, dtype: float64"
      ]
     },
     "execution_count": 12,
     "metadata": {},
     "output_type": "execute_result"
    }
   ],
   "source": [
    "df['A'].apply(lambda t: len(t.split())).describe()"
   ]
  },
  {
   "cell_type": "code",
   "execution_count": 13,
   "id": "3f8f037c",
   "metadata": {},
   "outputs": [
    {
     "name": "stdout",
     "output_type": "stream",
     "text": [
      "Q                 가족 여행 가기로 했어\n",
      "A    온 가족이 모두 마음에 드는 곳으로 가보세요.\n",
      "Name: 23, dtype: object\n",
      "Q              맛집 다녀왔어\n",
      "A    맛있게 드시고 오셨길 바랍니다.\n",
      "Name: 1557, dtype: object\n",
      "Q                거지됐어\n",
      "A    밥 사줄 친구를 찾아 보세요~\n",
      "Name: 100, dtype: object\n",
      "Q              첫사랑도 내가 보고 싶을까?\n",
      "A    추억으로 남았다면 보고 싶고 궁금할거 같아요.\n",
      "Name: 11661, dtype: object\n"
     ]
    }
   ],
   "source": [
    "print(df.loc[23, ['Q', 'A']])\n",
    "\n",
    "print(df.loc[1557, ['Q', 'A']])\n",
    "\n",
    "print(df.loc[100, ['Q', 'A']])\n",
    "\n",
    "print(df.loc[11661, ['Q', 'A']])"
   ]
  },
  {
   "cell_type": "code",
   "execution_count": 14,
   "id": "f9081c72",
   "metadata": {},
   "outputs": [],
   "source": [
    "# 전처리 함수\n",
    "def preprocess_sentence(sentence):\n",
    "    # 입력받은 sentence를 소문자로 변경하고 양쪽 공백을 제거\n",
    "    sentence = sentence.lower().strip()\n",
    "\n",
    "    # 단어와 구두점(punctuation) 사이의 거리를 만듭니다.\n",
    "    # 예를 들어서 \"I am a student.\" => \"I am a student .\"와 같이\n",
    "    # student와 온점 사이에 거리를 만듭니다.\n",
    "    sentence = re.sub(r\"([?.!,])\", r\" \\1 \", sentence)\n",
    "    sentence = re.sub(r'[\" \"]+', \" \", sentence)\n",
    "\n",
    "    # (a-z, A-Z, ㄱ-ㅎ, ㅏ-ㅣ, 가-힣, \".\", \"?\", \"!\", \",\", 숫자)를 제외한 모든 문자를 공백인 ' '로 대체합니다.\n",
    "    sentence = re.sub(r\"[^ㄱ-ㅎㅏ-ㅣ가-힣a-zA-Z?.!,\\d]+\", \" \", sentence)\n",
    "    sentence = sentence.strip()\n",
    "    return sentence"
   ]
  },
  {
   "cell_type": "code",
   "execution_count": 15,
   "id": "6d45c01f",
   "metadata": {},
   "outputs": [],
   "source": [
    "df['Q_clean'] = df['Q'].apply(lambda s: preprocess_sentence(s))\n",
    "df['A_clean'] = df['A'].apply(lambda s: preprocess_sentence(s))"
   ]
  },
  {
   "cell_type": "code",
   "execution_count": 16,
   "id": "35c134e0",
   "metadata": {},
   "outputs": [
    {
     "data": {
      "text/html": [
       "<div>\n",
       "<style scoped>\n",
       "    .dataframe tbody tr th:only-of-type {\n",
       "        vertical-align: middle;\n",
       "    }\n",
       "\n",
       "    .dataframe tbody tr th {\n",
       "        vertical-align: top;\n",
       "    }\n",
       "\n",
       "    .dataframe thead th {\n",
       "        text-align: right;\n",
       "    }\n",
       "</style>\n",
       "<table border=\"1\" class=\"dataframe\">\n",
       "  <thead>\n",
       "    <tr style=\"text-align: right;\">\n",
       "      <th></th>\n",
       "      <th>Q</th>\n",
       "      <th>A</th>\n",
       "      <th>Q_clean</th>\n",
       "      <th>A_clean</th>\n",
       "    </tr>\n",
       "  </thead>\n",
       "  <tbody>\n",
       "    <tr>\n",
       "      <th>0</th>\n",
       "      <td>12시 땡!</td>\n",
       "      <td>하루가 또 가네요.</td>\n",
       "      <td>12시 땡 !</td>\n",
       "      <td>하루가 또 가네요 .</td>\n",
       "    </tr>\n",
       "    <tr>\n",
       "      <th>1</th>\n",
       "      <td>1지망 학교 떨어졌어</td>\n",
       "      <td>위로해 드립니다.</td>\n",
       "      <td>1지망 학교 떨어졌어</td>\n",
       "      <td>위로해 드립니다 .</td>\n",
       "    </tr>\n",
       "    <tr>\n",
       "      <th>2</th>\n",
       "      <td>3박4일 놀러가고 싶다</td>\n",
       "      <td>여행은 언제나 좋죠.</td>\n",
       "      <td>3박4일 놀러가고 싶다</td>\n",
       "      <td>여행은 언제나 좋죠 .</td>\n",
       "    </tr>\n",
       "    <tr>\n",
       "      <th>3</th>\n",
       "      <td>3박4일 정도 놀러가고 싶다</td>\n",
       "      <td>여행은 언제나 좋죠.</td>\n",
       "      <td>3박4일 정도 놀러가고 싶다</td>\n",
       "      <td>여행은 언제나 좋죠 .</td>\n",
       "    </tr>\n",
       "    <tr>\n",
       "      <th>4</th>\n",
       "      <td>PPL 심하네</td>\n",
       "      <td>눈살이 찌푸려지죠.</td>\n",
       "      <td>ppl 심하네</td>\n",
       "      <td>눈살이 찌푸려지죠 .</td>\n",
       "    </tr>\n",
       "  </tbody>\n",
       "</table>\n",
       "</div>"
      ],
      "text/plain": [
       "                 Q            A          Q_clean       A_clean\n",
       "0           12시 땡!   하루가 또 가네요.          12시 땡 !   하루가 또 가네요 .\n",
       "1      1지망 학교 떨어졌어    위로해 드립니다.      1지망 학교 떨어졌어    위로해 드립니다 .\n",
       "2     3박4일 놀러가고 싶다  여행은 언제나 좋죠.     3박4일 놀러가고 싶다  여행은 언제나 좋죠 .\n",
       "3  3박4일 정도 놀러가고 싶다  여행은 언제나 좋죠.  3박4일 정도 놀러가고 싶다  여행은 언제나 좋죠 .\n",
       "4          PPL 심하네   눈살이 찌푸려지죠.          ppl 심하네   눈살이 찌푸려지죠 ."
      ]
     },
     "execution_count": 16,
     "metadata": {},
     "output_type": "execute_result"
    }
   ],
   "source": [
    "df.head()"
   ]
  },
  {
   "cell_type": "markdown",
   "id": "87555946",
   "metadata": {},
   "source": [
    "## Step 3. SubwordTextEncoder 사용하기\n",
    "\n",
    "### 질문과 답변 데이터셋에 대해서 Vocabulary 생성"
   ]
  },
  {
   "cell_type": "code",
   "execution_count": null,
   "id": "2569942b",
   "metadata": {},
   "outputs": [],
   "source": []
  },
  {
   "cell_type": "code",
   "execution_count": 17,
   "id": "82a967de",
   "metadata": {},
   "outputs": [
    {
     "data": {
      "text/plain": [
       "0                          12시 땡 !\n",
       "1                      1지망 학교 떨어졌어\n",
       "2                     3박4일 놀러가고 싶다\n",
       "3                  3박4일 정도 놀러가고 싶다\n",
       "4                          ppl 심하네\n",
       "                   ...            \n",
       "11817               진심으로 다가가 보세요 .\n",
       "11818          티가 나니까 눈치가 보이는 거죠 !\n",
       "11820                      설렜겠어요 .\n",
       "11821    잘 헤어질 수 있는 사이 여부인 거 같아요 .\n",
       "11822          도피성 결혼은 하지 않길 바라요 .\n",
       "Length: 23324, dtype: object"
      ]
     },
     "execution_count": 17,
     "metadata": {},
     "output_type": "execute_result"
    }
   ],
   "source": [
    "pd.concat([df['Q_clean'], df['A_clean']])"
   ]
  },
  {
   "cell_type": "code",
   "execution_count": 18,
   "id": "b827b942",
   "metadata": {},
   "outputs": [
    {
     "name": "stdout",
     "output_type": "stream",
     "text": [
      "20651\n"
     ]
    }
   ],
   "source": [
    "from collections import Counter\n",
    "results = Counter()\n",
    "pd.concat([df['Q_clean'], df['A_clean']]).str.split().apply(results.update)\n",
    "print(len(results))"
   ]
  },
  {
   "cell_type": "markdown",
   "id": "88420b03",
   "metadata": {},
   "source": [
    "단어가 20651개밖에 없으니까 vocab_size를 늘려서 모든 단어를 담아봄."
   ]
  },
  {
   "cell_type": "code",
   "execution_count": 19,
   "id": "ab0a6673",
   "metadata": {},
   "outputs": [],
   "source": [
    "import tensorflow_datasets as tfds\n",
    "\n",
    "\n",
    "tokenizer = tfds.deprecated.text.SubwordTextEncoder.build_from_corpus(\n",
    "    pd.concat([df['Q_clean'], df['A_clean']]), target_vocab_size=2**13\n",
    ")"
   ]
  },
  {
   "cell_type": "markdown",
   "id": "d07dddbb",
   "metadata": {},
   "source": [
    "시작 토큰과 종료 토큰에 고유한 정수를 부여합니다."
   ]
  },
  {
   "cell_type": "code",
   "execution_count": 20,
   "id": "22b90006",
   "metadata": {},
   "outputs": [
    {
     "name": "stdout",
     "output_type": "stream",
     "text": [
      "[8106] [8107] 8108\n"
     ]
    }
   ],
   "source": [
    "START_TOKEN, END_TOKEN = [tokenizer.vocab_size], [tokenizer.vocab_size + 1]\n",
    "VOCAB_SIZE = tokenizer.vocab_size + 2\n",
    "print(START_TOKEN, END_TOKEN, VOCAB_SIZE)"
   ]
  },
  {
   "cell_type": "code",
   "execution_count": 21,
   "id": "cf6b16ca",
   "metadata": {},
   "outputs": [],
   "source": [
    "questions = df['Q_clean']\n",
    "answers = df['A_clean']"
   ]
  },
  {
   "cell_type": "code",
   "execution_count": 22,
   "id": "c15c9332",
   "metadata": {},
   "outputs": [
    {
     "name": "stdout",
     "output_type": "stream",
     "text": [
      "정수 인코딩 후의 21번째 질문 샘플: [5737, 634, 2480, 4135]\n",
      "정수 인코딩 후의 21번째 답변 샘플: [2331, 7460, 7, 6223, 96, 1]\n"
     ]
    }
   ],
   "source": [
    "print(\"정수 인코딩 후의 21번째 질문 샘플: {}\".format(tokenizer.encode(questions[21])))\n",
    "print(\"정수 인코딩 후의 21번째 답변 샘플: {}\".format(tokenizer.encode(answers[21])))"
   ]
  },
  {
   "cell_type": "code",
   "execution_count": 23,
   "id": "a6379f82",
   "metadata": {},
   "outputs": [
    {
     "data": {
      "text/plain": [
       "count    11662.000000\n",
       "mean         3.948551\n",
       "std          1.847341\n",
       "min          1.000000\n",
       "25%          3.000000\n",
       "50%          4.000000\n",
       "75%          5.000000\n",
       "max         16.000000\n",
       "Name: Q_clean, dtype: float64"
      ]
     },
     "execution_count": 23,
     "metadata": {},
     "output_type": "execute_result"
    }
   ],
   "source": [
    "df['Q_clean'].apply(lambda t: len(t.split())).describe()"
   ]
  },
  {
   "cell_type": "code",
   "execution_count": 24,
   "id": "192a5c58",
   "metadata": {},
   "outputs": [
    {
     "data": {
      "text/plain": [
       "count    11662.00000\n",
       "mean         4.72106\n",
       "std          1.92572\n",
       "min          1.00000\n",
       "25%          3.00000\n",
       "50%          4.00000\n",
       "75%          6.00000\n",
       "max         24.00000\n",
       "Name: A_clean, dtype: float64"
      ]
     },
     "execution_count": 24,
     "metadata": {},
     "output_type": "execute_result"
    }
   ],
   "source": [
    "df['A_clean'].apply(lambda t: len(t.split())).describe()"
   ]
  },
  {
   "cell_type": "markdown",
   "id": "e6be6926",
   "metadata": {},
   "source": [
    "모든 문장을 학습해보고자 MAX_LENGTH 를 최대치로 줌"
   ]
  },
  {
   "cell_type": "code",
   "execution_count": 25,
   "id": "de588751",
   "metadata": {},
   "outputs": [],
   "source": [
    "MAX_LENGTH = 16"
   ]
  },
  {
   "cell_type": "code",
   "execution_count": 26,
   "id": "5003c13b",
   "metadata": {},
   "outputs": [],
   "source": [
    "# 정수 인코딩, 최대 길이를 초과하는 샘플 제거, 패딩\n",
    "def tokenize_and_filter(inputs, outputs):\n",
    "    tokenized_inputs, tokenized_outputs = [], []\n",
    "\n",
    "    for sentence1, sentence2 in zip(inputs, outputs):\n",
    "        # 최대 길이 MAX_LENGTH 이하인 경우에만 데이터셋으로 허용\n",
    "        if len(sentence1) > MAX_LENGTH and len(sentence2) > MAX_LENGTH:\n",
    "            continue\n",
    "        # 정수 인코딩 과정에서 시작 토큰과 종료 토큰을 추가\n",
    "        sentence1 = START_TOKEN + tokenizer.encode(sentence1) + END_TOKEN\n",
    "        sentence2 = START_TOKEN + tokenizer.encode(sentence2) + END_TOKEN\n",
    "\n",
    "        tokenized_inputs.append(sentence1)\n",
    "        tokenized_outputs.append(sentence2)\n",
    "\n",
    "    # 최대 길이 MAX_LENGTH + 2으로 모든 데이터셋을 패딩\n",
    "    tokenized_inputs = tf.keras.preprocessing.sequence.pad_sequences(\n",
    "        tokenized_inputs, maxlen=MAX_LENGTH + 2, padding=\"post\"\n",
    "    )\n",
    "    tokenized_outputs = tf.keras.preprocessing.sequence.pad_sequences(\n",
    "        tokenized_outputs, maxlen=MAX_LENGTH + 2, padding=\"post\"\n",
    "    )\n",
    "\n",
    "    return tokenized_inputs, tokenized_outputs\n"
   ]
  },
  {
   "cell_type": "code",
   "execution_count": 27,
   "id": "7c93bf01",
   "metadata": {},
   "outputs": [],
   "source": [
    "questions, answers = tokenize_and_filter(questions, answers)"
   ]
  },
  {
   "cell_type": "code",
   "execution_count": 28,
   "id": "0d21ef66",
   "metadata": {},
   "outputs": [
    {
     "name": "stdout",
     "output_type": "stream",
     "text": [
      "단어장의 크기 : 8108\n",
      "필터링 후의 질문 샘플 개수: 10101\n",
      "필터링 후의 답변 샘플 개수: 10101\n"
     ]
    }
   ],
   "source": [
    "print(\"단어장의 크기 :\", (VOCAB_SIZE))\n",
    "print(\"필터링 후의 질문 샘플 개수: {}\".format(len(questions)))\n",
    "print(\"필터링 후의 답변 샘플 개수: {}\".format(len(answers)))"
   ]
  },
  {
   "cell_type": "code",
   "execution_count": 29,
   "id": "2d69b19e",
   "metadata": {},
   "outputs": [],
   "source": [
    "BATCH_SIZE = 64\n",
    "BUFFER_SIZE = 20000\n",
    "\n",
    "# 디코더는 이전의 target을 다음의 input으로 사용합니다.\n",
    "# 이에 따라 outputs에서는 START_TOKEN을 제거하겠습니다.\n",
    "dataset = tf.data.Dataset.from_tensor_slices(\n",
    "    (\n",
    "        {\"inputs\": questions, \"dec_inputs\": answers[:, :-1]},\n",
    "        {\"outputs\": answers[:, 1:]},\n",
    "    )\n",
    ")\n",
    "\n",
    "dataset = dataset.cache()\n",
    "dataset = dataset.shuffle(BUFFER_SIZE)\n",
    "dataset = dataset.batch(BATCH_SIZE)\n",
    "dataset = dataset.prefetch(tf.data.experimental.AUTOTUNE)"
   ]
  },
  {
   "cell_type": "code",
   "execution_count": null,
   "id": "2447adb6",
   "metadata": {},
   "outputs": [],
   "source": []
  },
  {
   "cell_type": "markdown",
   "id": "38f33ec9",
   "metadata": {},
   "source": [
    "## Step 4. 모델 구성하기"
   ]
  },
  {
   "cell_type": "markdown",
   "id": "eede2815",
   "metadata": {},
   "source": [
    "###  포지셔널 인코딩 레이어"
   ]
  },
  {
   "cell_type": "code",
   "execution_count": 30,
   "id": "35256e0a",
   "metadata": {},
   "outputs": [],
   "source": [
    "# 포지셔널 인코딩 레이어\n",
    "class PositionalEncoding(tf.keras.layers.Layer):\n",
    "    def __init__(self, position, d_model):\n",
    "        super(PositionalEncoding, self).__init__()\n",
    "        self.pos_encoding = self.positional_encoding(position, d_model)\n",
    "\n",
    "    def get_angles(self, position, i, d_model):\n",
    "        angles = 1 / tf.pow(10000, (2 * (i // 2)) / tf.cast(d_model, tf.float32))\n",
    "        return position * angles  # position * d_model\n",
    "\n",
    "    def positional_encoding(self, position, d_model):\n",
    "        # 각도 배열 생성\n",
    "        angle_rads = self.get_angles(\n",
    "            position=tf.range(position, dtype=tf.float32)[\n",
    "                :, tf.newaxis\n",
    "            ],  # position * 1  matrix\n",
    "            i=tf.range(d_model, dtype=tf.float32)[tf.newaxis, :],  # 1 * d_model matrix\n",
    "            d_model=d_model,\n",
    "        )\n",
    "\n",
    "        # 배열의 짝수 인덱스에는 sin 함수 적용\n",
    "        sines = tf.math.sin(angle_rads[:, 0::2])  # postion * d_model/2\n",
    "        # 배열의 홀수 인덱스에는 cosine 함수 적용\n",
    "        cosines = tf.math.cos(angle_rads[:, 1::2])  # postion * d_model/2\n",
    "\n",
    "        # sin과 cosine이 교차되도록 재배열\n",
    "        pos_encoding = tf.stack([sines, cosines], axis=0)  # 2 * position * d_model/2\n",
    "        pos_encoding = tf.transpose(pos_encoding, [1, 2, 0])  # position * d_model/2 * 2\n",
    "        pos_encoding = tf.reshape(\n",
    "            pos_encoding, [position, d_model]\n",
    "        )  # position * d_model\n",
    "\n",
    "        pos_encoding = pos_encoding[tf.newaxis, ...]  # 1* position * d_model\n",
    "        return tf.cast(pos_encoding, tf.float32)\n",
    "\n",
    "    def call(self, inputs):\n",
    "        return inputs + self.pos_encoding[:, : tf.shape(inputs)[1], :]\n"
   ]
  },
  {
   "cell_type": "code",
   "execution_count": 31,
   "id": "6d7146b8",
   "metadata": {},
   "outputs": [
    {
     "name": "stdout",
     "output_type": "stream",
     "text": [
      "(1, 50, 512)\n"
     ]
    },
    {
     "data": {
      "image/png": "[encoded data removed]",
      "text/plain": [
       "<Figure size 2304x1728 with 2 Axes>"
      ]
     },
     "metadata": {
      "needs_background": "light"
     },
     "output_type": "display_data"
    }
   ],
   "source": [
    "sample_pos_encoding = PositionalEncoding(50, 512)\n",
    "plt.figure(figsize=(32, 24))\n",
    "print(sample_pos_encoding.pos_encoding.numpy().shape)\n",
    "plt.pcolormesh(sample_pos_encoding.pos_encoding.numpy()[0], cmap=\"RdBu\")\n",
    "plt.xlabel(\"Depth\")\n",
    "plt.xlim((0, 512))\n",
    "plt.ylabel(\"Position\")\n",
    "plt.colorbar()\n",
    "plt.show()"
   ]
  },
  {
   "cell_type": "markdown",
   "id": "6ed15d31",
   "metadata": {},
   "source": [
    "### 멀티헤드 어텐션 레이어 구축"
   ]
  },
  {
   "cell_type": "code",
   "execution_count": 32,
   "id": "a7dd06ac",
   "metadata": {},
   "outputs": [],
   "source": [
    "# 스케일드 닷 프로덕트 어텐션 함수\n",
    "def scaled_dot_product_attention(query, key, value, mask):\n",
    "    # 어텐션 가중치는 Q와 K의 닷 프로덕트\n",
    "    matmul_qk = tf.matmul(query, key, transpose_b=True)  # str_len * str_len\n",
    "\n",
    "    # 가중치를 정규화\n",
    "    depth = tf.cast(tf.shape(key)[-1], tf.float32)  # depth\n",
    "    logits = matmul_qk / tf.math.sqrt(depth)  # str_len * str_len\n",
    "\n",
    "    # 패딩에 마스크 추가\n",
    "    if mask is not None:\n",
    "        logits += mask * -1e9\n",
    "\n",
    "    # softmax적용\n",
    "    attention_weights = tf.nn.softmax(logits, axis=-1)  # str_len * str_len\n",
    "\n",
    "    # 최종 어텐션은 가중치와 V의 닷 프로덕트\n",
    "    output = tf.matmul(attention_weights, value)  # str_len * depth\n",
    "    return output"
   ]
  },
  {
   "cell_type": "code",
   "execution_count": 33,
   "id": "ce74bdf4",
   "metadata": {},
   "outputs": [],
   "source": [
    "class MultiHeadAttention(tf.keras.layers.Layer):\n",
    "    def __init__(self, d_model, num_heads, name=\"multi_head_attention\"):\n",
    "        super(MultiHeadAttention, self).__init__(name=name)\n",
    "        self.num_heads = num_heads\n",
    "        self.d_model = d_model\n",
    "\n",
    "        assert d_model % self.num_heads == 0\n",
    "\n",
    "        self.depth = d_model // self.num_heads\n",
    "\n",
    "        self.query_dense = tf.keras.layers.Dense(units=d_model)\n",
    "        self.key_dense = tf.keras.layers.Dense(units=d_model)\n",
    "        self.value_dense = tf.keras.layers.Dense(units=d_model)\n",
    "\n",
    "        self.dense = tf.keras.layers.Dense(units=d_model)\n",
    "\n",
    "    def split_heads(self, inputs, batch_size):\n",
    "        # inputs = batch_size * str_len * d_model\n",
    "        inputs = tf.reshape(\n",
    "            inputs, shape=(batch_size, -1, self.num_heads, self.depth)\n",
    "        )  # batch_size * str_len * num_heads * depth\n",
    "        return tf.transpose(\n",
    "            inputs, perm=[0, 2, 1, 3]\n",
    "        )  # batch_size * num_heads * str_len * depth\n",
    "\n",
    "    def call(self, inputs):\n",
    "        query, key, value, mask = (\n",
    "            inputs[\"query\"],\n",
    "            inputs[\"key\"],\n",
    "            inputs[\"value\"],\n",
    "            inputs[\"mask\"],\n",
    "        )\n",
    "        batch_size = tf.shape(query)[0]\n",
    "\n",
    "        # Q, K, V에 각각 Dense를 적용합니다\n",
    "        query = self.query_dense(query)  # batch_size * str_len * d_model\n",
    "        key = self.key_dense(key)  # batch_size * str_len * d_model\n",
    "        value = self.value_dense(value)  # batch_size * str_len * d_model\n",
    "\n",
    "        # 병렬 연산을 위한 머리를 여러 개 만듭니다\n",
    "        query = self.split_heads(\n",
    "            query, batch_size\n",
    "        )  # batch_size * num_heads * str_len * depth\n",
    "        key = self.split_heads(\n",
    "            key, batch_size\n",
    "        )  # batch_size * num_heads * str_len * depth\n",
    "        value = self.split_heads(\n",
    "            value, batch_size\n",
    "        )  # batch_size * num_heads * str_len * depth\n",
    "\n",
    "        # 스케일드 닷 프로덕트 어텐션 함수\n",
    "        scaled_attention = scaled_dot_product_attention(\n",
    "            query, key, value, mask\n",
    "        )  # batch_size * num_heads * str_len * depth\n",
    "\n",
    "        scaled_attention = tf.transpose(\n",
    "            scaled_attention, perm=[0, 2, 1, 3]\n",
    "        )  # batch_size * str_len * num_heads * depth\n",
    "\n",
    "        # 어텐션 연산 후에 각 결과를 다시 연결(concatenate)합니다\n",
    "        concat_attention = tf.reshape(\n",
    "            scaled_attention, (batch_size, -1, self.d_model)\n",
    "        )  # batch_size * str_len * d_model\n",
    "\n",
    "        # 최종 결과에도 Dense를 한 번 더 적용합니다\n",
    "        outputs = self.dense(concat_attention)  # batch_size * str_len * d_model\n",
    "\n",
    "        return outputs"
   ]
  },
  {
   "cell_type": "markdown",
   "id": "a0f4c65c",
   "metadata": {},
   "source": [
    "### 마스크 처리"
   ]
  },
  {
   "cell_type": "code",
   "execution_count": 34,
   "id": "9ecedcd5",
   "metadata": {},
   "outputs": [],
   "source": [
    "def create_padding_mask(x):\n",
    "    mask = tf.cast(tf.math.equal(x, 0), tf.float32)\n",
    "    # (batch_size, 1, 1, sequence length)\n",
    "    return mask[:, tf.newaxis, tf.newaxis, :]"
   ]
  },
  {
   "cell_type": "code",
   "execution_count": 35,
   "id": "a9373302",
   "metadata": {},
   "outputs": [],
   "source": [
    "def create_look_ahead_mask(x):\n",
    "    seq_len = tf.shape(x)[1]\n",
    "    look_ahead_mask = 1 - tf.linalg.band_part(tf.ones((seq_len, seq_len)), -1, 0)\n",
    "    padding_mask = create_padding_mask(x)\n",
    "    return tf.maximum(look_ahead_mask, padding_mask)"
   ]
  },
  {
   "cell_type": "markdown",
   "id": "894e2a13",
   "metadata": {},
   "source": [
    "### 인코더 모델 구성"
   ]
  },
  {
   "cell_type": "code",
   "execution_count": 36,
   "id": "a7c5b947",
   "metadata": {},
   "outputs": [],
   "source": [
    "# 인코더 하나의 레이어를 함수로 구현.\n",
    "# 이 하나의 레이어 안에는 두 개의 서브 레이어가 존재합니다.\n",
    "def encoder_layer(units, d_model, num_heads, dropout, name=\"encoder_layer\"):\n",
    "    inputs = tf.keras.Input(shape=(None, d_model), name=\"inputs\")\n",
    "\n",
    "    # 패딩 마스크 사용\n",
    "    padding_mask = tf.keras.Input(shape=(1, 1, None), name=\"padding_mask\")\n",
    "\n",
    "    # 첫 번째 서브 레이어 : 멀티 헤드 어텐션 수행 (셀프 어텐션)\n",
    "    attention = MultiHeadAttention(d_model, num_heads, name=\"attention\")(\n",
    "        {\"query\": inputs, \"key\": inputs, \"value\": inputs, \"mask\": padding_mask}\n",
    "    )\n",
    "\n",
    "    # 어텐션의 결과는 Dropout과 Layer Normalization이라는 훈련을 돕는 테크닉을 수행\n",
    "    attention = tf.keras.layers.Dropout(rate=dropout)(attention)\n",
    "    attention = tf.keras.layers.LayerNormalization(epsilon=1e-6)(inputs + attention)\n",
    "\n",
    "    # 두 번째 서브 레이어 : 2개의 완전연결층\n",
    "    outputs = tf.keras.layers.Dense(units=units, activation=\"relu\")(attention)\n",
    "    outputs = tf.keras.layers.Dense(units=d_model)(outputs)\n",
    "\n",
    "    # 완전연결층의 결과는 Dropout과 LayerNormalization이라는 훈련을 돕는 테크닉을 수행\n",
    "    outputs = tf.keras.layers.Dropout(rate=dropout)(outputs)\n",
    "    outputs = tf.keras.layers.LayerNormalization(epsilon=1e-6)(attention + outputs)\n",
    "\n",
    "    return tf.keras.Model(inputs=[inputs, padding_mask], outputs=outputs, name=name)"
   ]
  },
  {
   "cell_type": "code",
   "execution_count": 37,
   "id": "b327809f",
   "metadata": {},
   "outputs": [],
   "source": [
    "def encoder(vocab_size, num_layers, units, d_model, num_heads, dropout, name=\"encoder\"):\n",
    "    inputs = tf.keras.Input(shape=(None,), name=\"inputs\")\n",
    "\n",
    "    # 패딩 마스크 사용\n",
    "    padding_mask = tf.keras.Input(shape=(1, 1, None), name=\"padding_mask\")\n",
    "\n",
    "    # 임베딩 레이어\n",
    "    embeddings = tf.keras.layers.Embedding(vocab_size, d_model)(inputs)\n",
    "    embeddings *= tf.math.sqrt(tf.cast(d_model, tf.float32))\n",
    "\n",
    "    # 포지셔널 인코딩\n",
    "    embeddings = PositionalEncoding(vocab_size, d_model)(embeddings)\n",
    "\n",
    "    outputs = tf.keras.layers.Dropout(rate=dropout)(embeddings)\n",
    "\n",
    "    # num_layers만큼 쌓아올린 인코더의 층.\n",
    "    for i in range(num_layers):\n",
    "        outputs = encoder_layer(\n",
    "            units=units,\n",
    "            d_model=d_model,\n",
    "            num_heads=num_heads,\n",
    "            dropout=dropout,\n",
    "            name=\"encoder_layer_{}\".format(i),\n",
    "        )([outputs, padding_mask])\n",
    "\n",
    "    return tf.keras.Model(inputs=[inputs, padding_mask], outputs=outputs, name=name)"
   ]
  },
  {
   "cell_type": "markdown",
   "id": "325744ed",
   "metadata": {},
   "source": [
    "### 디코더 모델 구성"
   ]
  },
  {
   "cell_type": "code",
   "execution_count": 38,
   "id": "9f22a85e",
   "metadata": {},
   "outputs": [],
   "source": [
    "# 디코더 하나의 레이어를 함수로 구현.\n",
    "# 이 하나의 레이어 안에는 세 개의 서브 레이어가 존재합니다.\n",
    "def decoder_layer(units, d_model, num_heads, dropout, name=\"decoder_layer\"):\n",
    "    inputs = tf.keras.Input(shape=(None, d_model), name=\"inputs\")\n",
    "    enc_outputs = tf.keras.Input(shape=(None, d_model), name=\"encoder_outputs\")\n",
    "    look_ahead_mask = tf.keras.Input(shape=(1, None, None), name=\"look_ahead_mask\")\n",
    "    padding_mask = tf.keras.Input(shape=(1, 1, None), name=\"padding_mask\")\n",
    "\n",
    "    # 첫 번째 서브 레이어 : 멀티 헤드 어텐션 수행 (셀프 어텐션)\n",
    "    attention1 = MultiHeadAttention(d_model, num_heads, name=\"attention_1\")(\n",
    "        inputs={\n",
    "            \"query\": inputs,\n",
    "            \"key\": inputs,\n",
    "            \"value\": inputs,\n",
    "            \"mask\": look_ahead_mask,\n",
    "        }\n",
    "    )\n",
    "\n",
    "    # 멀티 헤드 어텐션의 결과는 LayerNormalization이라는 훈련을 돕는 테크닉을 수행\n",
    "    attention1 = tf.keras.layers.LayerNormalization(epsilon=1e-6)(attention1 + inputs)\n",
    "\n",
    "    # 두 번째 서브 레이어 : 마스크드 멀티 헤드 어텐션 수행 (인코더-디코더 어텐션)\n",
    "    attention2 = MultiHeadAttention(d_model, num_heads, name=\"attention_2\")(\n",
    "        inputs={\n",
    "            \"query\": attention1,\n",
    "            \"key\": enc_outputs,\n",
    "            \"value\": enc_outputs,\n",
    "            \"mask\": padding_mask,\n",
    "        }\n",
    "    )\n",
    "\n",
    "    # 마스크드 멀티 헤드 어텐션의 결과는\n",
    "    # Dropout과 LayerNormalization이라는 훈련을 돕는 테크닉을 수행\n",
    "    attention2 = tf.keras.layers.Dropout(rate=dropout)(attention2)\n",
    "    attention2 = tf.keras.layers.LayerNormalization(epsilon=1e-6)(\n",
    "        attention2 + attention1\n",
    "    )\n",
    "\n",
    "    # 세 번째 서브 레이어 : 2개의 완전연결층\n",
    "    outputs = tf.keras.layers.Dense(units=units, activation=\"relu\")(attention2)\n",
    "    outputs = tf.keras.layers.Dense(units=d_model)(outputs)\n",
    "\n",
    "    # 완전연결층의 결과는 Dropout과 LayerNormalization 수행\n",
    "    outputs = tf.keras.layers.Dropout(rate=dropout)(outputs)\n",
    "    outputs = tf.keras.layers.LayerNormalization(epsilon=1e-6)(outputs + attention2)\n",
    "\n",
    "    return tf.keras.Model(\n",
    "        inputs=[inputs, enc_outputs, look_ahead_mask, padding_mask],\n",
    "        outputs=outputs,\n",
    "        name=name,\n",
    "    )"
   ]
  },
  {
   "cell_type": "code",
   "execution_count": 39,
   "id": "df25d543",
   "metadata": {},
   "outputs": [],
   "source": [
    "def decoder(vocab_size, num_layers, units, d_model, num_heads, dropout, name=\"decoder\"):\n",
    "    inputs = tf.keras.Input(shape=(None,), name=\"inputs\")\n",
    "    enc_outputs = tf.keras.Input(shape=(None, d_model), name=\"encoder_outputs\")\n",
    "    look_ahead_mask = tf.keras.Input(shape=(1, None, None), name=\"look_ahead_mask\")\n",
    "\n",
    "    # 패딩 마스크\n",
    "    padding_mask = tf.keras.Input(shape=(1, 1, None), name=\"padding_mask\")\n",
    "\n",
    "    # 임베딩 레이어\n",
    "    embeddings = tf.keras.layers.Embedding(vocab_size, d_model)(inputs)\n",
    "    embeddings *= tf.math.sqrt(tf.cast(d_model, tf.float32))\n",
    "\n",
    "    # 포지셔널 인코딩\n",
    "    embeddings = PositionalEncoding(vocab_size, d_model)(embeddings)\n",
    "\n",
    "    # Dropout이라는 훈련을 돕는 테크닉을 수행\n",
    "    outputs = tf.keras.layers.Dropout(rate=dropout)(embeddings)\n",
    "\n",
    "    for i in range(num_layers):\n",
    "        outputs = decoder_layer(\n",
    "            units=units,\n",
    "            d_model=d_model,\n",
    "            num_heads=num_heads,\n",
    "            dropout=dropout,\n",
    "            name=\"decoder_layer_{}\".format(i),\n",
    "        )(inputs=[outputs, enc_outputs, look_ahead_mask, padding_mask])\n",
    "\n",
    "    return tf.keras.Model(\n",
    "        inputs=[inputs, enc_outputs, look_ahead_mask, padding_mask],\n",
    "        outputs=outputs,\n",
    "        name=name,\n",
    "    )\n"
   ]
  },
  {
   "cell_type": "markdown",
   "id": "20595659",
   "metadata": {},
   "source": [
    "### 트랜스포머 모델 구성"
   ]
  },
  {
   "cell_type": "code",
   "execution_count": 40,
   "id": "6fd1d54f",
   "metadata": {},
   "outputs": [],
   "source": [
    "def transformer(\n",
    "    vocab_size, num_layers, units, d_model, num_heads, dropout, name=\"transformer\"\n",
    "):\n",
    "    inputs = tf.keras.Input(shape=(None,), name=\"inputs\")\n",
    "    dec_inputs = tf.keras.Input(shape=(None,), name=\"dec_inputs\")\n",
    "\n",
    "    # 인코더에서 패딩을 위한 마스크\n",
    "    enc_padding_mask = tf.keras.layers.Lambda(\n",
    "        create_padding_mask, output_shape=(1, 1, None), name=\"enc_padding_mask\"\n",
    "    )(inputs)\n",
    "\n",
    "    # 디코더에서 미래의 토큰을 마스크 하기 위해서 사용합니다.\n",
    "    # 내부적으로 패딩 마스크도 포함되어져 있습니다.\n",
    "    look_ahead_mask = tf.keras.layers.Lambda(\n",
    "        create_look_ahead_mask, output_shape=(1, None, None), name=\"look_ahead_mask\"\n",
    "    )(dec_inputs)\n",
    "\n",
    "    # 두 번째 어텐션 블록에서 인코더의 벡터들을 마스킹\n",
    "    # 디코더에서 패딩을 위한 마스크\n",
    "    dec_padding_mask = tf.keras.layers.Lambda(\n",
    "        create_padding_mask, output_shape=(1, 1, None), name=\"dec_padding_mask\"\n",
    "    )(inputs)\n",
    "\n",
    "    # 인코더\n",
    "    enc_outputs = encoder(\n",
    "        vocab_size=vocab_size,\n",
    "        num_layers=num_layers,\n",
    "        units=units,\n",
    "        d_model=d_model,\n",
    "        num_heads=num_heads,\n",
    "        dropout=dropout,\n",
    "    )(inputs=[inputs, enc_padding_mask])\n",
    "\n",
    "    # 디코더\n",
    "    dec_outputs = decoder(\n",
    "        vocab_size=vocab_size,\n",
    "        num_layers=num_layers,\n",
    "        units=units,\n",
    "        d_model=d_model,\n",
    "        num_heads=num_heads,\n",
    "        dropout=dropout,\n",
    "    )(inputs=[dec_inputs, enc_outputs, look_ahead_mask, dec_padding_mask])\n",
    "\n",
    "    # 완전연결층\n",
    "    outputs = tf.keras.layers.Dense(units=vocab_size, name=\"outputs\")(dec_outputs)\n",
    "\n",
    "    return tf.keras.Model(inputs=[inputs, dec_inputs], outputs=outputs, name=name)\n"
   ]
  },
  {
   "cell_type": "code",
   "execution_count": 41,
   "id": "fe120446",
   "metadata": {},
   "outputs": [
    {
     "name": "stdout",
     "output_type": "stream",
     "text": [
      "Model: \"transformer\"\n",
      "__________________________________________________________________________________________________\n",
      "Layer (type)                    Output Shape         Param #     Connected to                     \n",
      "==================================================================================================\n",
      "inputs (InputLayer)             [(None, None)]       0                                            \n",
      "__________________________________________________________________________________________________\n",
      "dec_inputs (InputLayer)         [(None, None)]       0                                            \n",
      "__________________________________________________________________________________________________\n",
      "enc_padding_mask (Lambda)       (None, 1, 1, None)   0           inputs[0][0]                     \n",
      "__________________________________________________________________________________________________\n",
      "encoder (Functional)            (None, None, 256)    3129856     inputs[0][0]                     \n",
      "                                                                 enc_padding_mask[0][0]           \n",
      "__________________________________________________________________________________________________\n",
      "look_ahead_mask (Lambda)        (None, 1, None, None 0           dec_inputs[0][0]                 \n",
      "__________________________________________________________________________________________________\n",
      "dec_padding_mask (Lambda)       (None, 1, 1, None)   0           inputs[0][0]                     \n",
      "__________________________________________________________________________________________________\n",
      "decoder (Functional)            (None, None, 256)    3657216     dec_inputs[0][0]                 \n",
      "                                                                 encoder[0][0]                    \n",
      "                                                                 look_ahead_mask[0][0]            \n",
      "                                                                 dec_padding_mask[0][0]           \n",
      "__________________________________________________________________________________________________\n",
      "outputs (Dense)                 (None, None, 8108)   2083756     decoder[0][0]                    \n",
      "==================================================================================================\n",
      "Total params: 8,870,828\n",
      "Trainable params: 8,870,828\n",
      "Non-trainable params: 0\n",
      "__________________________________________________________________________________________________\n"
     ]
    }
   ],
   "source": [
    "tf.keras.backend.clear_session()\n",
    "\n",
    "# 하이퍼파라미터\n",
    "NUM_LAYERS = 2  # 인코더와 디코더의 층의 개수\n",
    "D_MODEL = 256  # 인코더와 디코더 내부의 입, 출력의 고정 차원\n",
    "NUM_HEADS = 8  # 멀티 헤드 어텐션에서의 헤드 수\n",
    "UNITS = 512  # 피드 포워드 신경망의 은닉층의 크기\n",
    "DROPOUT = 0.1  # 드롭아웃의 비율\n",
    "\n",
    "model = transformer(\n",
    "    vocab_size=VOCAB_SIZE,\n",
    "    num_layers=NUM_LAYERS,\n",
    "    units=UNITS,\n",
    "    d_model=D_MODEL,\n",
    "    num_heads=NUM_HEADS,\n",
    "    dropout=DROPOUT,\n",
    ")\n",
    "\n",
    "model.summary()"
   ]
  },
  {
   "cell_type": "markdown",
   "id": "d915bc6a",
   "metadata": {},
   "source": [
    "### 손실 함수 구성"
   ]
  },
  {
   "cell_type": "code",
   "execution_count": 42,
   "id": "7f45cc89",
   "metadata": {},
   "outputs": [],
   "source": [
    "def loss_function(y_true, y_pred):\n",
    "    y_true = tf.reshape(y_true, shape=(-1, MAX_LENGTH + 1))\n",
    "\n",
    "    loss = tf.keras.losses.SparseCategoricalCrossentropy(\n",
    "        from_logits=True, reduction=\"none\"\n",
    "    )(y_true, y_pred)\n",
    "\n",
    "    mask = tf.cast(tf.not_equal(y_true, 0), tf.float32)\n",
    "    loss = tf.multiply(loss, mask)\n",
    "\n",
    "    return tf.reduce_mean(loss)\n"
   ]
  },
  {
   "cell_type": "markdown",
   "id": "360ff3aa",
   "metadata": {},
   "source": [
    "### 학습시 러닝레이트 조절"
   ]
  },
  {
   "cell_type": "code",
   "execution_count": 43,
   "id": "3f2fc51a",
   "metadata": {},
   "outputs": [],
   "source": [
    "class CustomSchedule(tf.keras.optimizers.schedules.LearningRateSchedule):\n",
    "    def __init__(self, d_model, warmup_steps=4000):\n",
    "        super(CustomSchedule, self).__init__()\n",
    "\n",
    "        self.d_model = d_model\n",
    "        self.d_model = tf.cast(self.d_model, tf.float32)\n",
    "\n",
    "        self.warmup_steps = warmup_steps\n",
    "\n",
    "    def __call__(self, step):\n",
    "        arg1 = tf.math.rsqrt(step)\n",
    "        arg2 = step * (self.warmup_steps**-1.5)\n",
    "\n",
    "        return tf.math.rsqrt(self.d_model) * tf.math.minimum(arg1, arg2)\n"
   ]
  },
  {
   "cell_type": "code",
   "execution_count": 44,
   "id": "16e3ec7b",
   "metadata": {},
   "outputs": [],
   "source": [
    "learning_rate = CustomSchedule(D_MODEL)\n",
    "\n",
    "optimizer = tf.keras.optimizers.Adam(\n",
    "    learning_rate, beta_1=0.9, beta_2=0.98, epsilon=1e-9\n",
    ")\n",
    "\n",
    "\n",
    "def accuracy(y_true, y_pred):\n",
    "    y_true = tf.reshape(y_true, shape=(-1, MAX_LENGTH + 1))\n",
    "    return tf.keras.metrics.sparse_categorical_accuracy(y_true, y_pred)\n",
    "\n",
    "\n",
    "model.compile(optimizer=optimizer, loss=loss_function, metrics=[accuracy])"
   ]
  },
  {
   "cell_type": "code",
   "execution_count": 45,
   "id": "17052219",
   "metadata": {},
   "outputs": [
    {
     "name": "stdout",
     "output_type": "stream",
     "text": [
      "Epoch 1/40\n",
      "158/158 - 12s - loss: 3.1800 - accuracy: 0.0640\n",
      "Epoch 2/40\n",
      "158/158 - 5s - loss: 2.6491 - accuracy: 0.1128\n",
      "Epoch 3/40\n",
      "158/158 - 6s - loss: 2.2365 - accuracy: 0.1143\n",
      "Epoch 4/40\n",
      "158/158 - 6s - loss: 2.0408 - accuracy: 0.1190\n",
      "Epoch 5/40\n",
      "158/158 - 6s - loss: 1.9189 - accuracy: 0.1258\n",
      "Epoch 6/40\n",
      "158/158 - 6s - loss: 1.8033 - accuracy: 0.1329\n",
      "Epoch 7/40\n",
      "158/158 - 6s - loss: 1.6819 - accuracy: 0.1432\n",
      "Epoch 8/40\n",
      "158/158 - 6s - loss: 1.5463 - accuracy: 0.1574\n",
      "Epoch 9/40\n",
      "158/158 - 6s - loss: 1.3958 - accuracy: 0.1746\n",
      "Epoch 10/40\n",
      "158/158 - 6s - loss: 1.2355 - accuracy: 0.1937\n",
      "Epoch 11/40\n",
      "158/158 - 6s - loss: 1.0637 - accuracy: 0.2140\n",
      "Epoch 12/40\n",
      "158/158 - 6s - loss: 0.8907 - accuracy: 0.2369\n",
      "Epoch 13/40\n",
      "158/158 - 6s - loss: 0.7241 - accuracy: 0.2592\n",
      "Epoch 14/40\n",
      "158/158 - 6s - loss: 0.5685 - accuracy: 0.2818\n",
      "Epoch 15/40\n",
      "158/158 - 6s - loss: 0.4325 - accuracy: 0.3039\n",
      "Epoch 16/40\n",
      "158/158 - 6s - loss: 0.3161 - accuracy: 0.3234\n",
      "Epoch 17/40\n",
      "158/158 - 6s - loss: 0.2253 - accuracy: 0.3400\n",
      "Epoch 18/40\n",
      "158/158 - 6s - loss: 0.1592 - accuracy: 0.3519\n",
      "Epoch 19/40\n",
      "158/158 - 6s - loss: 0.1178 - accuracy: 0.3588\n",
      "Epoch 20/40\n",
      "158/158 - 6s - loss: 0.0914 - accuracy: 0.3629\n",
      "Epoch 21/40\n",
      "158/158 - 6s - loss: 0.0752 - accuracy: 0.3651\n",
      "Epoch 22/40\n",
      "158/158 - 6s - loss: 0.0695 - accuracy: 0.3658\n",
      "Epoch 23/40\n",
      "158/158 - 6s - loss: 0.0671 - accuracy: 0.3658\n",
      "Epoch 24/40\n",
      "158/158 - 6s - loss: 0.0628 - accuracy: 0.3663\n",
      "Epoch 25/40\n",
      "158/158 - 6s - loss: 0.0603 - accuracy: 0.3667\n",
      "Epoch 26/40\n",
      "158/158 - 6s - loss: 0.0581 - accuracy: 0.3668\n",
      "Epoch 27/40\n",
      "158/158 - 6s - loss: 0.0495 - accuracy: 0.3694\n",
      "Epoch 28/40\n",
      "158/158 - 6s - loss: 0.0468 - accuracy: 0.3696\n",
      "Epoch 29/40\n",
      "158/158 - 5s - loss: 0.0423 - accuracy: 0.3705\n",
      "Epoch 30/40\n",
      "158/158 - 6s - loss: 0.0363 - accuracy: 0.3723\n",
      "Epoch 31/40\n",
      "158/158 - 6s - loss: 0.0330 - accuracy: 0.3731\n",
      "Epoch 32/40\n",
      "158/158 - 6s - loss: 0.0292 - accuracy: 0.3740\n",
      "Epoch 33/40\n",
      "158/158 - 6s - loss: 0.0270 - accuracy: 0.3745\n",
      "Epoch 34/40\n",
      "158/158 - 6s - loss: 0.0261 - accuracy: 0.3748\n",
      "Epoch 35/40\n",
      "158/158 - 6s - loss: 0.0240 - accuracy: 0.3753\n",
      "Epoch 36/40\n",
      "158/158 - 6s - loss: 0.0207 - accuracy: 0.3761\n",
      "Epoch 37/40\n",
      "158/158 - 6s - loss: 0.0205 - accuracy: 0.3762\n",
      "Epoch 38/40\n",
      "158/158 - 6s - loss: 0.0182 - accuracy: 0.3767\n",
      "Epoch 39/40\n",
      "158/158 - 6s - loss: 0.0175 - accuracy: 0.3768\n",
      "Epoch 40/40\n",
      "158/158 - 6s - loss: 0.0159 - accuracy: 0.3772\n"
     ]
    }
   ],
   "source": [
    "EPOCHS = 40\n",
    "history = model.fit(dataset, epochs=EPOCHS, verbose=2)"
   ]
  },
  {
   "cell_type": "code",
   "execution_count": null,
   "id": "0e17db0a",
   "metadata": {},
   "outputs": [],
   "source": []
  },
  {
   "cell_type": "code",
   "execution_count": null,
   "id": "6b0afb79",
   "metadata": {},
   "outputs": [],
   "source": []
  },
  {
   "cell_type": "markdown",
   "id": "d8cd2386",
   "metadata": {},
   "source": [
    "## Step 5. 모델 평가하기"
   ]
  },
  {
   "cell_type": "code",
   "execution_count": 46,
   "id": "9ffaaeba",
   "metadata": {},
   "outputs": [],
   "source": [
    "def decoder_inference(sentence):\n",
    "    sentence = preprocess_sentence(sentence)\n",
    "\n",
    "    # 입력된 문장을 정수 인코딩 후, 시작 토큰과 종료 토큰을 앞뒤로 추가.\n",
    "    # ex) Where have you been? → [[8331   86   30    5 1059    7 8332]]\n",
    "    sentence = tf.expand_dims(\n",
    "        START_TOKEN + tokenizer.encode(sentence) + END_TOKEN, axis=0\n",
    "    )\n",
    "\n",
    "    # 디코더의 현재까지의 예측한 출력 시퀀스가 지속적으로 저장되는 변수.\n",
    "    # 처음에는 예측한 내용이 없음으로 시작 토큰만 별도 저장. ex) 8331\n",
    "    output_sequence = tf.expand_dims(START_TOKEN, 0)\n",
    "\n",
    "    # 디코더의 인퍼런스 단계\n",
    "    for i in range(MAX_LENGTH):\n",
    "        # 디코더는 최대 MAX_LENGTH의 길이만큼 다음 단어 예측을 반복합니다.\n",
    "        predictions = model(inputs=[sentence, output_sequence], training=False)\n",
    "        predictions = predictions[:, -1:, :]\n",
    "\n",
    "        # 현재 예측한 단어의 정수\n",
    "        predicted_id = tf.cast(tf.argmax(predictions, axis=-1), tf.int32)\n",
    "\n",
    "        # 만약 현재 예측한 단어가 종료 토큰이라면 for문을 종료\n",
    "        if tf.equal(predicted_id, END_TOKEN[0]):\n",
    "            break\n",
    "\n",
    "        # 예측한 단어들은 지속적으로 output_sequence에 추가됩니다.\n",
    "        # 이 output_sequence는 다시 디코더의 입력이 됩니다.\n",
    "        output_sequence = tf.concat([output_sequence, predicted_id], axis=-1)\n",
    "\n",
    "    return tf.squeeze(output_sequence, axis=0)"
   ]
  },
  {
   "cell_type": "code",
   "execution_count": 47,
   "id": "855c9649",
   "metadata": {},
   "outputs": [],
   "source": [
    "def sentence_generation(sentence):\n",
    "    # 입력 문장에 대해서 디코더를 동작 시켜 예측된 정수 시퀀스를 리턴받습니다.\n",
    "    prediction = decoder_inference(sentence)\n",
    "\n",
    "    # 정수 시퀀스를 다시 텍스트 시퀀스로 변환합니다.\n",
    "    predicted_sentence = tokenizer.decode(\n",
    "        [i for i in prediction if i < tokenizer.vocab_size]\n",
    "    )\n",
    "\n",
    "    print(\"입력 : {}\".format(sentence))\n",
    "    print(\"출력 : {}\".format(predicted_sentence))\n",
    "\n",
    "    return predicted_sentence"
   ]
  },
  {
   "cell_type": "markdown",
   "id": "21b8db88",
   "metadata": {},
   "source": [
    "#### 안에 데이터가 있는지 잘 나온 부분"
   ]
  },
  {
   "cell_type": "code",
   "execution_count": 48,
   "id": "87b3902a",
   "metadata": {},
   "outputs": [
    {
     "name": "stdout",
     "output_type": "stream",
     "text": [
      "입력 : 안녕 오랜만이야\n",
      "출력 : 안녕하세요 .\n",
      "\n",
      "입력 : 잘 지냈어?\n",
      "출력 : 안부를 물어주시다니 감사합니다 .\n",
      "\n",
      "입력 : 뭐 먹을까?\n",
      "출력 : 좀 먹어도 괜찮아요 .\n",
      "\n",
      "입력 : 메뉴 추천해줘\n",
      "출력 : 좀 먹어도 괜찮아요 .\n",
      "\n",
      "입력 : 어제 뭐 먹었어?\n",
      "출력 : 저는 배터리가 밥이예요 .\n",
      "\n",
      "입력 : 나랑 놀자\n",
      "출력 : 지금 그러고 있어요 .\n",
      "\n",
      "입력 : 어디 가고 싶어?\n",
      "출력 : 즐거운 시간 보내시길 바랍니다 .\n",
      "\n",
      "입력 : 여행 갈래?\n",
      "출력 : 저는 좋아요 .\n",
      "\n"
     ]
    }
   ],
   "source": [
    "question_list = ['안녕 오랜만이야', '잘 지냈어?', '뭐 먹을까?', '메뉴 추천해줘', '어제 뭐 먹었어?', '나랑 놀자', '어디 가고 싶어?', '여행 갈래?']\n",
    "\n",
    "for question in question_list:\n",
    "    sentence_generation(question)\n",
    "    print('')"
   ]
  },
  {
   "cell_type": "code",
   "execution_count": 49,
   "id": "fbc1a0fe",
   "metadata": {},
   "outputs": [
    {
     "name": "stdout",
     "output_type": "stream",
     "text": [
      "입력 : 짝남 때문에 너무 우울하고 혼란스러워\n",
      "출력 : 충분히 힘들거라 생각해요 .\n"
     ]
    },
    {
     "data": {
      "text/plain": [
       "'충분히 힘들거라 생각해요 .'"
      ]
     },
     "execution_count": 49,
     "metadata": {},
     "output_type": "execute_result"
    }
   ],
   "source": [
    "sentence_generation(\"짝남 때문에 너무 우울하고 혼란스러워\")"
   ]
  },
  {
   "cell_type": "markdown",
   "id": "dbe999ab",
   "metadata": {},
   "source": [
    "#### 학습되지 않아서 그런지 다소 미흡한 결과"
   ]
  },
  {
   "cell_type": "code",
   "execution_count": 50,
   "id": "a29126ed",
   "metadata": {},
   "outputs": [
    {
     "name": "stdout",
     "output_type": "stream",
     "text": [
      "입력 : 만나서 기뻐\n",
      "출력 : 가끔씩 스트레칭을 해주세요 .\n"
     ]
    },
    {
     "data": {
      "text/plain": [
       "'가끔씩 스트레칭을 해주세요 .'"
      ]
     },
     "execution_count": 50,
     "metadata": {},
     "output_type": "execute_result"
    }
   ],
   "source": [
    "sentence_generation('만나서 기뻐')"
   ]
  },
  {
   "cell_type": "code",
   "execution_count": 51,
   "id": "fd53826f",
   "metadata": {},
   "outputs": [
    {
     "name": "stdout",
     "output_type": "stream",
     "text": [
      "입력 : 너를 만나서 기뻐\n",
      "출력 : 지금 당장 자들였을 거예요 .\n"
     ]
    },
    {
     "data": {
      "text/plain": [
       "'지금 당장 자들였을 거예요 .'"
      ]
     },
     "execution_count": 51,
     "metadata": {},
     "output_type": "execute_result"
    }
   ],
   "source": [
    "sentence_generation('너를 만나서 기뻐')"
   ]
  },
  {
   "cell_type": "code",
   "execution_count": 52,
   "id": "5480ae78",
   "metadata": {},
   "outputs": [
    {
     "name": "stdout",
     "output_type": "stream",
     "text": [
      "입력 : 당신을 만나서 기뻐\n",
      "출력 : 지금 옆에서 기뻐해주는 사람을 살펴보세요 .\n"
     ]
    },
    {
     "data": {
      "text/plain": [
       "'지금 옆에서 기뻐해주는 사람을 살펴보세요 .'"
      ]
     },
     "execution_count": 52,
     "metadata": {},
     "output_type": "execute_result"
    }
   ],
   "source": [
    "sentence_generation('당신을 만나서 기뻐')"
   ]
  },
  {
   "cell_type": "code",
   "execution_count": 53,
   "id": "8252bae6",
   "metadata": {},
   "outputs": [
    {
     "name": "stdout",
     "output_type": "stream",
     "text": [
      "입력 : 널 만나서 기뻐\n",
      "출력 : 지금 그러고 있어요 .\n"
     ]
    },
    {
     "data": {
      "text/plain": [
       "'지금 그러고 있어요 .'"
      ]
     },
     "execution_count": 53,
     "metadata": {},
     "output_type": "execute_result"
    }
   ],
   "source": [
    "sentence_generation('널 만나서 기뻐')"
   ]
  },
  {
   "cell_type": "code",
   "execution_count": 54,
   "id": "44a16fb2",
   "metadata": {},
   "outputs": [
    {
     "name": "stdout",
     "output_type": "stream",
     "text": [
      "입력 : 아이펠이 뭐야?\n",
      "출력 : 잠재력은 무궁무진해요 .\n"
     ]
    },
    {
     "data": {
      "text/plain": [
       "'잠재력은 무궁무진해요 .'"
      ]
     },
     "execution_count": 54,
     "metadata": {},
     "output_type": "execute_result"
    }
   ],
   "source": [
    "sentence_generation(\"아이펠이 뭐야?\")"
   ]
  },
  {
   "cell_type": "code",
   "execution_count": 55,
   "id": "3f260960",
   "metadata": {},
   "outputs": [
    {
     "name": "stdout",
     "output_type": "stream",
     "text": [
      "입력 : 크리스마스에는 뭐해?\n",
      "출력 : 크리스마스에는 케빈과 함께 .\n"
     ]
    },
    {
     "data": {
      "text/plain": [
       "'크리스마스에는 케빈과 함께 .'"
      ]
     },
     "execution_count": 55,
     "metadata": {},
     "output_type": "execute_result"
    }
   ],
   "source": [
    "sentence_generation(\"크리스마스에는 뭐해?\")"
   ]
  },
  {
   "cell_type": "code",
   "execution_count": null,
   "id": "a19b55fc",
   "metadata": {},
   "outputs": [],
   "source": []
  },
  {
   "cell_type": "markdown",
   "id": "29ba67df",
   "metadata": {},
   "source": [
    "# 회고\n",
    "\n"
   ]
  },
  {
   "attachments": {
    "image-2.png": {
     "image/png": "[encoded data removed]"
    },
    "image.png": {
     "image/png": "[encoded data removed]"
    }
   },
   "cell_type": "markdown",
   "id": "139ac0e0",
   "metadata": {},
   "source": [
    "## 결과 비교 \n",
    "\n",
    "**epoch = 40일 때, max_lenght = 24, vocab_size = 2^15**  \n",
    "\n",
    "![image.png](attachment:image.png)  \n",
    "\n",
    "\n",
    "\n",
    "\n",
    "**epoch = 40일 때, max_lenght = 16, vocab_size = 2^13**  \n",
    "\n",
    "![image-2.png](attachment:image-2.png)\n",
    "\n"
   ]
  },
  {
   "cell_type": "markdown",
   "id": "eec287c7",
   "metadata": {},
   "source": [
    "## 느낀점 \n",
    "* Transformer를 이용해서 질문에 대한 모델의 답변을 보는 과정이 즐거웠다. \n",
    "* 개념적으로 더 탄탄한 시간을 가져야겠다. \n",
    "* vocab size와 max_length 사이즈를 줄이면 모델의 정확도가 더 올라간다는 것을 알게 되었다. 다음에 시간이 되면 더 시도해봐야겠다."
   ]
  },
  {
   "cell_type": "code",
   "execution_count": null,
   "id": "b45a72df",
   "metadata": {},
   "outputs": [],
   "source": []
  }
 ],
 "metadata": {
  "kernelspec": {
   "display_name": "Python 3 (ipykernel)",
   "language": "python",
   "name": "python3"
  },
  "language_info": {
   "codemirror_mode": {
    "name": "ipython",
    "version": 3
   },
   "file_extension": ".py",
   "mimetype": "text/x-python",
   "name": "python",
   "nbconvert_exporter": "python",
   "pygments_lexer": "ipython3",
   "version": "3.9.7"
  }
 },
 "nbformat": 4,
 "nbformat_minor": 5
}
